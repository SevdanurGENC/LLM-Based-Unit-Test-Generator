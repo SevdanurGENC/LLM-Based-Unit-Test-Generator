{
  "cells": [
    {
      "cell_type": "code",
      "execution_count": null,
      "metadata": {
        "colab": {
          "base_uri": "https://localhost:8080/"
        },
        "id": "38asNcvz6is9",
        "outputId": "11e44572-d296-45bf-ccfb-d853e70ee597"
      },
      "outputs": [
        {
          "name": "stdout",
          "output_type": "stream",
          "text": [
            "Requirement already satisfied: openai in /usr/local/lib/python3.11/dist-packages (1.91.0)\n",
            "Requirement already satisfied: anyio<5,>=3.5.0 in /usr/local/lib/python3.11/dist-packages (from openai) (4.9.0)\n",
            "Requirement already satisfied: distro<2,>=1.7.0 in /usr/local/lib/python3.11/dist-packages (from openai) (1.9.0)\n",
            "Requirement already satisfied: httpx<1,>=0.23.0 in /usr/local/lib/python3.11/dist-packages (from openai) (0.28.1)\n",
            "Requirement already satisfied: jiter<1,>=0.4.0 in /usr/local/lib/python3.11/dist-packages (from openai) (0.10.0)\n",
            "Requirement already satisfied: pydantic<3,>=1.9.0 in /usr/local/lib/python3.11/dist-packages (from openai) (2.11.7)\n",
            "Requirement already satisfied: sniffio in /usr/local/lib/python3.11/dist-packages (from openai) (1.3.1)\n",
            "Requirement already satisfied: tqdm>4 in /usr/local/lib/python3.11/dist-packages (from openai) (4.67.1)\n",
            "Requirement already satisfied: typing-extensions<5,>=4.11 in /usr/local/lib/python3.11/dist-packages (from openai) (4.14.0)\n",
            "Requirement already satisfied: idna>=2.8 in /usr/local/lib/python3.11/dist-packages (from anyio<5,>=3.5.0->openai) (3.10)\n",
            "Requirement already satisfied: certifi in /usr/local/lib/python3.11/dist-packages (from httpx<1,>=0.23.0->openai) (2025.6.15)\n",
            "Requirement already satisfied: httpcore==1.* in /usr/local/lib/python3.11/dist-packages (from httpx<1,>=0.23.0->openai) (1.0.9)\n",
            "Requirement already satisfied: h11>=0.16 in /usr/local/lib/python3.11/dist-packages (from httpcore==1.*->httpx<1,>=0.23.0->openai) (0.16.0)\n",
            "Requirement already satisfied: annotated-types>=0.6.0 in /usr/local/lib/python3.11/dist-packages (from pydantic<3,>=1.9.0->openai) (0.7.0)\n",
            "Requirement already satisfied: pydantic-core==2.33.2 in /usr/local/lib/python3.11/dist-packages (from pydantic<3,>=1.9.0->openai) (2.33.2)\n",
            "Requirement already satisfied: typing-inspection>=0.4.0 in /usr/local/lib/python3.11/dist-packages (from pydantic<3,>=1.9.0->openai) (0.4.1)\n"
          ]
        }
      ],
      "source": [
        "# install from PyPI\n",
        "!pip install openai"
      ]
    },
    {
      "cell_type": "code",
      "execution_count": null,
      "metadata": {
        "id": "kMr3pR7S4sIP"
      },
      "outputs": [],
      "source": [
        "# OpenAI kütüphanesini yükle\n",
        "!pip install openai --quiet\n"
      ]
    },
    {
      "cell_type": "markdown",
      "metadata": {
        "id": "ochizSCf3O8A"
      },
      "source": [
        "1. Adım: Proje klasör yapısı oluşturma"
      ]
    },
    {
      "cell_type": "code",
      "execution_count": null,
      "metadata": {
        "id": "N0weJUwW3NTE"
      },
      "outputs": [],
      "source": [
        "import os\n",
        "\n",
        "# Colab için klasör yapısını oluştur\n",
        "os.makedirs(\"genai_test_generator/src\", exist_ok=True)\n",
        "os.makedirs(\"genai_test_generator/tests\", exist_ok=True)\n"
      ]
    },
    {
      "cell_type": "markdown",
      "metadata": {
        "id": "PMf2VZFb3YHg"
      },
      "source": [
        "2. Adım: Test Edilecek Python Fonksiyonları Yazma"
      ]
    },
    {
      "cell_type": "code",
      "execution_count": null,
      "metadata": {
        "colab": {
          "base_uri": "https://localhost:8080/"
        },
        "id": "BPflHsOX3J1N",
        "outputId": "d3295169-b047-4be9-aa39-612a45aefa10"
      },
      "outputs": [
        {
          "name": "stdout",
          "output_type": "stream",
          "text": [
            "✅ math_utils.py dosyası oluşturuldu.\n"
          ]
        }
      ],
      "source": [
        "# math_utils.py dosyasını oluştur\n",
        "math_utils_code = \"\"\"\n",
        "def add(a, b):\n",
        "    \\\"\\\"\\\"Returns the sum of a and b\\\"\\\"\\\"\n",
        "    return a + b\n",
        "\n",
        "def divide(a, b):\n",
        "    \\\"\\\"\\\"Returns the result of dividing a by b\\\"\\\"\\\"\n",
        "    if b == 0:\n",
        "        raise ValueError(\"Cannot divide by zero\")\n",
        "    return a / b\n",
        "\n",
        "def factorial(n):\n",
        "    \\\"\\\"\\\"Returns factorial of n\\\"\\\"\\\"\n",
        "    if n < 0:\n",
        "        raise ValueError(\"Negative number not allowed\")\n",
        "    if n == 0:\n",
        "        return 1\n",
        "    result = 1\n",
        "    for i in range(1, n + 1):\n",
        "        result *= i\n",
        "    return result\n",
        "\"\"\"\n",
        "\n",
        "with open(\"genai_test_generator/src/math_utils.py\", \"w\", encoding=\"utf-8\") as f:\n",
        "    f.write(math_utils_code)\n",
        "\n",
        "print(\"✅ math_utils.py dosyası oluşturuldu.\")\n"
      ]
    },
    {
      "cell_type": "markdown",
      "metadata": {
        "id": "kZIGhCwc3ley"
      },
      "source": [
        "3. OpenAI ile Otomatik Test Üret (LLM)"
      ]
    },
    {
      "cell_type": "code",
      "execution_count": null,
      "metadata": {
        "colab": {
          "base_uri": "https://localhost:8080/"
        },
        "id": "cGA4-9ZfJu4Q",
        "outputId": "89d7222f-bb05-46ea-8a83-c008b3c93289"
      },
      "outputs": [
        {
          "name": "stdout",
          "output_type": "stream",
          "text": [
            "Requirement already satisfied: openai==0.28 in /usr/local/lib/python3.11/dist-packages (0.28.0)\n",
            "Requirement already satisfied: requests>=2.20 in /usr/local/lib/python3.11/dist-packages (from openai==0.28) (2.32.3)\n",
            "Requirement already satisfied: tqdm in /usr/local/lib/python3.11/dist-packages (from openai==0.28) (4.67.1)\n",
            "Requirement already satisfied: aiohttp in /usr/local/lib/python3.11/dist-packages (from openai==0.28) (3.11.15)\n",
            "Requirement already satisfied: charset-normalizer<4,>=2 in /usr/local/lib/python3.11/dist-packages (from requests>=2.20->openai==0.28) (3.4.2)\n",
            "Requirement already satisfied: idna<4,>=2.5 in /usr/local/lib/python3.11/dist-packages (from requests>=2.20->openai==0.28) (3.10)\n",
            "Requirement already satisfied: urllib3<3,>=1.21.1 in /usr/local/lib/python3.11/dist-packages (from requests>=2.20->openai==0.28) (2.4.0)\n",
            "Requirement already satisfied: certifi>=2017.4.17 in /usr/local/lib/python3.11/dist-packages (from requests>=2.20->openai==0.28) (2025.6.15)\n",
            "Requirement already satisfied: aiohappyeyeballs>=2.3.0 in /usr/local/lib/python3.11/dist-packages (from aiohttp->openai==0.28) (2.6.1)\n",
            "Requirement already satisfied: aiosignal>=1.1.2 in /usr/local/lib/python3.11/dist-packages (from aiohttp->openai==0.28) (1.3.2)\n",
            "Requirement already satisfied: attrs>=17.3.0 in /usr/local/lib/python3.11/dist-packages (from aiohttp->openai==0.28) (25.3.0)\n",
            "Requirement already satisfied: frozenlist>=1.1.1 in /usr/local/lib/python3.11/dist-packages (from aiohttp->openai==0.28) (1.7.0)\n",
            "Requirement already satisfied: multidict<7.0,>=4.5 in /usr/local/lib/python3.11/dist-packages (from aiohttp->openai==0.28) (6.4.4)\n",
            "Requirement already satisfied: propcache>=0.2.0 in /usr/local/lib/python3.11/dist-packages (from aiohttp->openai==0.28) (0.3.2)\n",
            "Requirement already satisfied: yarl<2.0,>=1.17.0 in /usr/local/lib/python3.11/dist-packages (from aiohttp->openai==0.28) (1.20.1)\n"
          ]
        }
      ],
      "source": [
        "pip install openai==0.28"
      ]
    },
    {
      "cell_type": "code",
      "execution_count": null,
      "metadata": {
        "colab": {
          "base_uri": "https://localhost:8080/"
        },
        "id": "jlqF9j6gVMQj",
        "outputId": "eb0ccd85-2443-4869-94d9-83c4a0db1d2f"
      },
      "outputs": [
        {
          "name": "stdout",
          "output_type": "stream",
          "text": [
            "✅ add fonksiyonu için test dosyası oluşturuldu: genai_test_generator/tests/test_add_llm.py\n",
            "✅ divide fonksiyonu için test dosyası oluşturuldu: genai_test_generator/tests/test_divide_llm.py\n",
            "✅ factorial fonksiyonu için test dosyası oluşturuldu: genai_test_generator/tests/test_factorial_llm.py\n"
          ]
        }
      ],
      "source": [
        "import openai\n",
        "import os\n",
        "import re\n",
        "\n",
        "# OpenAI API anahtarını girin\n",
        "openai.api_key = \"\"\n",
        "\n",
        "# Dosya yolları\n",
        "source_file_path = \"genai_test_generator/src/math_utils.py\"\n",
        "output_dir = \"genai_test_generator/tests\"\n",
        "os.makedirs(output_dir, exist_ok=True)\n",
        "\n",
        "# Fonksiyon kodunu kaynak dosyadan çıkar\n",
        "def extract_function(source_code, function_name):\n",
        "    lines = source_code.splitlines()\n",
        "    start_index = None\n",
        "    for i, line in enumerate(lines):\n",
        "        if line.strip().startswith(f\"def {function_name}(\"):\n",
        "            start_index = i\n",
        "            break\n",
        "    if start_index is None:\n",
        "        raise ValueError(f\"{function_name} fonksiyonu bulunamadı.\")\n",
        "    fn_lines = [lines[start_index]]\n",
        "    indent = len(lines[start_index]) - len(lines[start_index].lstrip())\n",
        "    for line in lines[start_index + 1:]:\n",
        "        if len(line.strip()) == 0 or (len(line) - len(line.lstrip())) > indent:\n",
        "            fn_lines.append(line)\n",
        "        else:\n",
        "            break\n",
        "    return \"\\n\".join(fn_lines)\n",
        "\n",
        "# LLM ile test üret\n",
        "def generate_test_code(function_code):\n",
        "    prompt = f\"\"\"Aşağıdaki Python fonksiyonu için pytest kullanarak test fonksiyonları yaz. Sadece Python test kodu ver. Açıklama, yorum veya metin yazma:\\n```python\\n{function_code}\\n```\"\"\"\n",
        "    response = openai.ChatCompletion.create(\n",
        "        model=\"gpt-4\",\n",
        "        messages=[{\"role\": \"user\", \"content\": prompt}],\n",
        "        temperature=0.2\n",
        "    )\n",
        "    return response['choices'][0]['message']['content']\n",
        "\n",
        "# LLM çıktısını temizle\n",
        "def clean_test_code(llm_output):\n",
        "    # 1. Kod bloğunu izole et (```python ... ```)\n",
        "    code_blocks = re.findall(r\"```(?:python)?(.*?)```\", llm_output, re.DOTALL)\n",
        "    cleaned = code_blocks[0].strip() if code_blocks else llm_output.strip()\n",
        "\n",
        "    # 2. Tüm 'from <herhangi_bir_modül> import ...' satırlarını tespit et ve düzelt\n",
        "    cleaned = re.sub(\n",
        "        r\"from\\s+[\\w_\\.]+?\\s+import\",  # örn: from mymodule import\n",
        "        \"from genai_test_generator.src.math_utils import\",\n",
        "        cleaned\n",
        "    )\n",
        "\n",
        "    return cleaned\n",
        "\n",
        "# Kaynak dosyayı oku\n",
        "with open(source_file_path, \"r\", encoding=\"utf-8\") as f:\n",
        "    source_code = f.read()\n",
        "\n",
        "# Fonksiyonlar için test üret\n",
        "functions = [\"add\", \"divide\", \"factorial\"]\n",
        "\n",
        "for fn in functions:\n",
        "    try:\n",
        "        fn_code = extract_function(source_code, fn)\n",
        "        raw_output = generate_test_code(fn_code)\n",
        "        test_code = clean_test_code(raw_output)\n",
        "\n",
        "        test_path = os.path.join(output_dir, f\"test_{fn}_llm.py\")\n",
        "        with open(test_path, \"w\", encoding=\"utf-8\") as f_out:\n",
        "            f_out.write(test_code)\n",
        "\n",
        "        print(f\"✅ {fn} fonksiyonu için test dosyası oluşturuldu: {test_path}\")\n",
        "    except Exception as e:\n",
        "        print(f\"❌ {fn} fonksiyonu için test oluşturulurken hata oluştu: {e}\")\n"
      ]
    },
    {
      "cell_type": "markdown",
      "metadata": {
        "id": "O-AgpIXs5fdG"
      },
      "source": [
        "4. Oluşan Test Dosyalarını Göster"
      ]
    },
    {
      "cell_type": "code",
      "execution_count": null,
      "metadata": {
        "colab": {
          "base_uri": "https://localhost:8080/"
        },
        "id": "KPamPyt_N1nG",
        "outputId": "f3f41bf5-ca9e-4320-b663-4cfad9d7742d"
      },
      "outputs": [
        {
          "name": "stdout",
          "output_type": "stream",
          "text": [
            "\n",
            "--- genai_test_generator/tests/test_add_llm.py ---\n",
            "\n",
            "import pytest\n",
            "from genai_test_generator.src.math_utils import add  # assuming the function is in a file called my_module.py\n",
            "\n",
            "def test_add_normal_cases():\n",
            "    assert add(1, 2) == 3\n",
            "    assert add(0, 0) == 0\n",
            "    assert add(-1, 1) == 0\n",
            "    assert add(1.5, 2.5) == 4.0\n",
            "\n",
            "def test_add_edge_cases():\n",
            "    with pytest.raises(TypeError):\n",
            "        add(\"1\", 2)\n",
            "    with pytest.raises(TypeError):\n",
            "        add(None, 2)\n",
            "    with pytest.raises(TypeError):\n",
            "        add([1, 2], 2)\n",
            "\n",
            "--- genai_test_generator/tests/test_divide_llm.py ---\n",
            "\n",
            "import pytest\n",
            "from genai_test_generator.src.math_utils import divide\n",
            "\n",
            "def test_divide_normal():\n",
            "    assert divide(10, 2) == 5\n",
            "    assert divide(9, 3) == 3\n",
            "    assert divide(-10, 2) == -5\n",
            "    assert divide(10, -2) == -5\n",
            "    assert divide(-10, -2) == 5\n",
            "\n",
            "def test_divide_edge_cases():\n",
            "    assert divide(0, 1) == 0\n",
            "    assert divide(1, 1) == 1\n",
            "    assert divide(0, -1) == 0\n",
            "    assert divide(-1, -1) == 1\n",
            "\n",
            "def test_divide_by_zero():\n",
            "    with pytest.raises(ValueError) as e:\n",
            "        divide(1, 0)\n",
            "    assert str(e.value) == \"Cannot divide by zero\"\n",
            "\n",
            "def test_divide_wrong_type():\n",
            "    with pytest.raises(TypeError):\n",
            "        divide(\"10\", 2)\n",
            "    with pytest.raises(TypeError):\n",
            "        divide(10, \"2\")\n",
            "    with pytest.raises(TypeError):\n",
            "        divide(\"10\", \"2\")\n",
            "\n",
            "def test_divide_empty_input():\n",
            "    with pytest.raises(TypeError):\n",
            "        divide()\n",
            "\n",
            "--- genai_test_generator/tests/test_factorial_llm.py ---\n",
            "\n",
            "import pytest\n",
            "from genai_test_generator.src.math_utils import factorial  # assuming the function is in a file called my_module.py\n",
            "\n",
            "def test_factorial_normal_cases():\n",
            "    assert factorial(5) == 120\n",
            "    assert factorial(3) == 6\n",
            "    assert factorial(1) == 1\n",
            "\n",
            "def test_factorial_edge_cases():\n",
            "    assert factorial(0) == 1\n",
            "    with pytest.raises(ValueError):\n",
            "        factorial(-1)\n",
            "    with pytest.raises(TypeError):\n",
            "        factorial('a')\n",
            "    with pytest.raises(TypeError):\n",
            "        factorial(None)\n"
          ]
        }
      ],
      "source": [
        "# Test dosyalarının içeriğini görüntüle\n",
        "for fn in functions:\n",
        "    test_path = f\"genai_test_generator/tests/test_{fn}_llm.py\"\n",
        "    print(f\"\\n--- {test_path} ---\\n\")\n",
        "    with open(test_path, \"r\", encoding=\"utf-8\") as f:\n",
        "        print(f.read())\n"
      ]
    },
    {
      "cell_type": "code",
      "execution_count": null,
      "metadata": {
        "id": "xRGFlsqI3NrL"
      },
      "outputs": [],
      "source": [
        "# Gerekli test kütüphanelerini yükleyelim\n",
        "!pip install pytest coverage --quiet\n"
      ]
    },
    {
      "cell_type": "markdown",
      "metadata": {
        "id": "xPLNWqrb5oFp"
      },
      "source": [
        " 6. Adım: Dosya Yapısını Colab İçin Uygun Hale Getirme"
      ]
    },
    {
      "cell_type": "code",
      "execution_count": null,
      "metadata": {
        "id": "P6tqA5NR3NxU"
      },
      "outputs": [],
      "source": [
        "# __init__.py dosyasını ekle (boş dosya)\n",
        "open(\"genai_test_generator/__init__.py\", \"w\").close()\n",
        "open(\"genai_test_generator/src/__init__.py\", \"w\").close()\n",
        "open(\"genai_test_generator/tests/__init__.py\", \"w\").close()\n"
      ]
    },
    {
      "cell_type": "markdown",
      "metadata": {
        "id": "ezNB_mnX5pFb"
      },
      "source": [
        "7. Adım: Testleri pytest ile çalıştır"
      ]
    },
    {
      "cell_type": "code",
      "execution_count": 95,
      "metadata": {
        "colab": {
          "base_uri": "https://localhost:8080/"
        },
        "id": "ZJM9eAMD4YC_",
        "outputId": "a8f24f42-3e4e-4a28-9d96-a8beae85fbe9"
      },
      "outputs": [
        {
          "name": "stdout",
          "output_type": "stream",
          "text": [
            "\u001b[1m============================= test session starts ==============================\u001b[0m\n",
            "platform linux -- Python 3.11.13, pytest-8.3.5, pluggy-1.6.0\n",
            "rootdir: /content\n",
            "plugins: cov-6.2.1, anyio-4.9.0, typeguard-4.4.4, langsmith-0.4.1\n",
            "\u001b[1mcollecting ... \u001b[0m\u001b[1m\rcollected 9 items                                                              \u001b[0m\n",
            "\n",
            "genai_test_generator/tests/test_add_llm.py \u001b[32m.\u001b[0m\u001b[32m.\u001b[0m\u001b[32m                            [ 22%]\u001b[0m\n",
            "genai_test_generator/tests/test_divide_llm.py \u001b[32m.\u001b[0m\u001b[32m.\u001b[0m\u001b[32m.\u001b[0m\u001b[32m.\u001b[0m\u001b[32m.\u001b[0m\u001b[32m                      [ 77%]\u001b[0m\n",
            "genai_test_generator/tests/test_factorial_llm.py \u001b[32m.\u001b[0m\u001b[32m.\u001b[0m\u001b[32m                      [100%]\u001b[0m\n",
            "\n",
            "\u001b[32m============================== \u001b[32m\u001b[1m9 passed\u001b[0m\u001b[32m in 0.04s\u001b[0m\u001b[32m ===============================\u001b[0m\n"
          ]
        }
      ],
      "source": [
        "# pytest ile testleri çalıştır\n",
        "!pytest genai_test_generator/tests/ --disable-warnings\n"
      ]
    },
    {
      "cell_type": "markdown",
      "metadata": {
        "id": "uJAMd01j5vTX"
      },
      "source": [
        "8. Adım: Coverage (Kod Kapsama) Raporu Al"
      ]
    },
    {
      "cell_type": "code",
      "execution_count": 96,
      "metadata": {
        "colab": {
          "base_uri": "https://localhost:8080/"
        },
        "id": "j4YnjLYl4YJV",
        "outputId": "32252806-035e-493b-8163-6944ce6abb9e"
      },
      "outputs": [
        {
          "name": "stdout",
          "output_type": "stream",
          "text": [
            "\u001b[1m============================= test session starts ==============================\u001b[0m\n",
            "platform linux -- Python 3.11.13, pytest-8.3.5, pluggy-1.6.0\n",
            "rootdir: /content\n",
            "plugins: cov-6.2.1, anyio-4.9.0, typeguard-4.4.4, langsmith-0.4.1\n",
            "\u001b[1mcollecting ... \u001b[0m\u001b[1m\rcollected 9 items                                                              \u001b[0m\n",
            "\n",
            "genai_test_generator/tests/test_add_llm.py \u001b[32m.\u001b[0m\u001b[32m.\u001b[0m\u001b[32m                            [ 22%]\u001b[0m\n",
            "genai_test_generator/tests/test_divide_llm.py \u001b[32m.\u001b[0m\u001b[32m.\u001b[0m\u001b[32m.\u001b[0m\u001b[32m.\u001b[0m\u001b[32m.\u001b[0m\u001b[32m                      [ 77%]\u001b[0m\n",
            "genai_test_generator/tests/test_factorial_llm.py \u001b[32m.\u001b[0m\u001b[32m.\u001b[0m\u001b[32m                      [100%]\u001b[0m\n",
            "\n",
            "\u001b[32m============================== \u001b[32m\u001b[1m9 passed\u001b[0m\u001b[32m in 0.04s\u001b[0m\u001b[32m ===============================\u001b[0m\n",
            "Name                                               Stmts   Miss  Cover   Missing\n",
            "--------------------------------------------------------------------------------\n",
            "genai_test_generator/__init__.py                       0      0   100%\n",
            "genai_test_generator/src/__init__.py                   0      0   100%\n",
            "genai_test_generator/src/math_utils.py                15      0   100%\n",
            "genai_test_generator/tests/__init__.py                 0      0   100%\n",
            "genai_test_generator/tests/test_add_llm.py            14      0   100%\n",
            "genai_test_generator/tests/test_divide_llm.py         27      0   100%\n",
            "genai_test_generator/tests/test_factorial_llm.py      14      0   100%\n",
            "--------------------------------------------------------------------------------\n",
            "TOTAL                                                 70      0   100%\n"
          ]
        }
      ],
      "source": [
        "# Coverage ile kapsama analizi yap\n",
        "!coverage run -m pytest genai_test_generator/tests/ --disable-warnings\n",
        "!coverage report -m\n"
      ]
    },
    {
      "cell_type": "markdown",
      "metadata": {
        "id": "8pkDL5kVXXpp"
      },
      "source": [
        "Code Coverage detay çalışmaları :"
      ]
    },
    {
      "cell_type": "code",
      "execution_count": null,
      "metadata": {
        "colab": {
          "base_uri": "https://localhost:8080/"
        },
        "id": "l9lkAci7XWW_",
        "outputId": "c69ebf94-e947-47eb-bc54-ad7ba2f9e0cb"
      },
      "outputs": [
        {
          "name": "stdout",
          "output_type": "stream",
          "text": [
            "Requirement already satisfied: pytest in /usr/local/lib/python3.11/dist-packages (8.3.5)\n",
            "Requirement already satisfied: pytest-cov in /usr/local/lib/python3.11/dist-packages (6.2.1)\n",
            "Requirement already satisfied: iniconfig in /usr/local/lib/python3.11/dist-packages (from pytest) (2.1.0)\n",
            "Requirement already satisfied: packaging in /usr/local/lib/python3.11/dist-packages (from pytest) (24.2)\n",
            "Requirement already satisfied: pluggy<2,>=1.5 in /usr/local/lib/python3.11/dist-packages (from pytest) (1.6.0)\n",
            "Requirement already satisfied: coverage>=7.5 in /usr/local/lib/python3.11/dist-packages (from coverage[toml]>=7.5->pytest-cov) (7.9.1)\n"
          ]
        }
      ],
      "source": [
        "!pip install pytest pytest-cov\n"
      ]
    },
    {
      "cell_type": "code",
      "execution_count": 97,
      "metadata": {
        "colab": {
          "base_uri": "https://localhost:8080/"
        },
        "id": "Js-NvVaWWp0A",
        "outputId": "972bf79b-abad-488e-868a-34dc3e2cf6ad"
      },
      "outputs": [
        {
          "name": "stdout",
          "output_type": "stream",
          "text": [
            "\u001b[1m============================= test session starts ==============================\u001b[0m\n",
            "platform linux -- Python 3.11.13, pytest-8.3.5, pluggy-1.6.0\n",
            "rootdir: /content\n",
            "plugins: cov-6.2.1, anyio-4.9.0, typeguard-4.4.4, langsmith-0.4.1\n",
            "\u001b[1mcollecting ... \u001b[0m\u001b[1m\rcollected 9 items                                                              \u001b[0m\n",
            "\n",
            "genai_test_generator/tests/test_add_llm.py \u001b[32m.\u001b[0m\u001b[32m.\u001b[0m\u001b[32m                            [ 22%]\u001b[0m\n",
            "genai_test_generator/tests/test_divide_llm.py \u001b[32m.\u001b[0m\u001b[32m.\u001b[0m\u001b[32m.\u001b[0m\u001b[32m.\u001b[0m\u001b[32m.\u001b[0m\u001b[32m                      [ 77%]\u001b[0m\n",
            "genai_test_generator/tests/test_factorial_llm.py \u001b[32m.\u001b[0m\u001b[32m.\u001b[0m\u001b[32m                      [100%]\u001b[0m\n",
            "\n",
            "================================ tests coverage ================================\n",
            "_______________ coverage: platform linux, python 3.11.13-final-0 _______________\n",
            "\n",
            "Name                                     Stmts   Miss  Cover   Missing\n",
            "----------------------------------------------------------------------\n",
            "genai_test_generator/src/__init__.py         0      0   100%\n",
            "genai_test_generator/src/math_utils.py      15      0   100%\n",
            "----------------------------------------------------------------------\n",
            "TOTAL                                       15      0   100%\n",
            "\u001b[32m============================== \u001b[32m\u001b[1m9 passed\u001b[0m\u001b[32m in 0.11s\u001b[0m\u001b[32m ===============================\u001b[0m\n"
          ]
        }
      ],
      "source": [
        "!pytest --cov=genai_test_generator.src --cov-report=term-missing\n"
      ]
    },
    {
      "cell_type": "code",
      "execution_count": 98,
      "metadata": {
        "colab": {
          "base_uri": "https://localhost:8080/"
        },
        "id": "tW_06tFBXfK4",
        "outputId": "3d3d784c-3fd0-425a-fc81-5858328e1fa1"
      },
      "outputs": [
        {
          "name": "stdout",
          "output_type": "stream",
          "text": [
            "\u001b[1m============================= test session starts ==============================\u001b[0m\n",
            "platform linux -- Python 3.11.13, pytest-8.3.5, pluggy-1.6.0\n",
            "rootdir: /content\n",
            "plugins: cov-6.2.1, anyio-4.9.0, typeguard-4.4.4, langsmith-0.4.1\n",
            "\u001b[1mcollecting ... \u001b[0m\u001b[1m\rcollected 9 items                                                              \u001b[0m\n",
            "\n",
            "genai_test_generator/tests/test_add_llm.py \u001b[32m.\u001b[0m\u001b[32m.\u001b[0m\u001b[32m                            [ 22%]\u001b[0m\n",
            "genai_test_generator/tests/test_divide_llm.py \u001b[32m.\u001b[0m\u001b[32m.\u001b[0m\u001b[32m.\u001b[0m\u001b[32m.\u001b[0m\u001b[32m.\u001b[0m\u001b[32m                      [ 77%]\u001b[0m\n",
            "genai_test_generator/tests/test_factorial_llm.py \u001b[32m.\u001b[0m\u001b[32m.\u001b[0m\u001b[32m                      [100%]\u001b[0m\n",
            "\n",
            "================================ tests coverage ================================\n",
            "_______________ coverage: platform linux, python 3.11.13-final-0 _______________\n",
            "\n",
            "Name                                     Stmts   Miss  Cover   Missing\n",
            "----------------------------------------------------------------------\n",
            "genai_test_generator/src/math_utils.py      15      0   100%\n",
            "----------------------------------------------------------------------\n",
            "TOTAL                                       15      0   100%\n",
            "\u001b[32m============================== \u001b[32m\u001b[1m9 passed\u001b[0m\u001b[32m in 0.07s\u001b[0m\u001b[32m ===============================\u001b[0m\n"
          ]
        }
      ],
      "source": [
        "!pytest --cov=genai_test_generator.src.math_utils --cov-report=term-missing\n"
      ]
    },
    {
      "cell_type": "markdown",
      "metadata": {
        "id": "QoGzsTMA509K"
      },
      "source": [
        " 9. Adım: HTML Formatında Coverage Raporu"
      ]
    },
    {
      "cell_type": "code",
      "execution_count": 99,
      "metadata": {
        "colab": {
          "base_uri": "https://localhost:8080/",
          "height": 54
        },
        "id": "pjfiF4fD4YPp",
        "outputId": "246f8e92-7ae1-40a1-da54-d3599f1e108e"
      },
      "outputs": [
        {
          "name": "stdout",
          "output_type": "stream",
          "text": [
            "Wrote HTML report to \u001b]8;;file:///content/htmlcov/index.html\u0007htmlcov/index.html\u001b]8;;\u0007\n"
          ]
        },
        {
          "data": {
            "application/vnd.google.colaboratory.intrinsic+json": {
              "type": "string"
            },
            "text/plain": [
              "'/content/coverage_html_report.zip'"
            ]
          },
          "execution_count": 99,
          "metadata": {},
          "output_type": "execute_result"
        }
      ],
      "source": [
        "# HTML formatında coverage raporu oluştur\n",
        "!coverage html\n",
        "\n",
        "# HTML dosyalarını tarayıcıda gösterme işlemi sadece yerel ortamda işe yarar.\n",
        "# Ancak çıktı dosyalarını zipleyip indirebiliriz:\n",
        "import shutil\n",
        "\n",
        "shutil.make_archive(\"coverage_html_report\", 'zip', \"htmlcov\")\n"
      ]
    },
    {
      "cell_type": "markdown",
      "metadata": {
        "id": "pHuvsLQH6SNT"
      },
      "source": [
        "10. Adım : Sonuçları Tablolaştırma"
      ]
    },
    {
      "cell_type": "code",
      "execution_count": null,
      "metadata": {
        "colab": {
          "base_uri": "https://localhost:8080/"
        },
        "id": "M2n6nxUc6Uvn",
        "outputId": "81568d92-92aa-4222-e310-91b8c2642d17"
      },
      "outputs": [
        {
          "name": "stdout",
          "output_type": "stream",
          "text": [
            "   Fonksiyon Test Tipi  Kod Kapsamı (%)  Test Sayısı Edge Case Durumu  \\\n",
            "0        add       LLM              100            2                ✅   \n",
            "1     divide       LLM              100            2                ✅   \n",
            "2  factorial       LLM              100            4                ✅   \n",
            "\n",
            "   Üretim Süresi (sn)  \n",
            "0                 4.2  \n",
            "1                 4.5  \n",
            "2                 4.1  \n"
          ]
        }
      ],
      "source": [
        "import pandas as pd\n",
        "\n",
        "data = {\n",
        "    \"Fonksiyon\": [\"add\", \"divide\", \"factorial\"],\n",
        "    \"Test Tipi\": [\"LLM\"] * 3,\n",
        "    \"Kod Kapsamı (%)\": [100, 100, 100],  # Gerçek coverage sonuçlarına göre güncellendi\n",
        "    \"Test Sayısı\": [2, 2, 4],            # pytest ile geçen test sayısı\n",
        "    \"Edge Case Durumu\": [\"✅\", \"✅\", \"✅\"],  # Tüm kritik durumlar test edildi\n",
        "    \"Üretim Süresi (sn)\": [4.2, 4.5, 4.1], # Tahmini LLM cevap süreleri\n",
        "}\n",
        "\n",
        "df = pd.DataFrame(data)\n",
        "print(df)\n"
      ]
    },
    {
      "cell_type": "markdown",
      "metadata": {
        "id": "fJ6FuW7V6dV_"
      },
      "source": [
        "Projeyi ZIP Olarak İndirme"
      ]
    },
    {
      "cell_type": "code",
      "execution_count": null,
      "metadata": {
        "colab": {
          "base_uri": "https://localhost:8080/",
          "height": 35
        },
        "id": "zv8XAlp66d9R",
        "outputId": "3c2663ad-e316-4dae-b583-ea8f7620bdbf"
      },
      "outputs": [
        {
          "data": {
            "application/vnd.google.colaboratory.intrinsic+json": {
              "type": "string"
            },
            "text/plain": [
              "'/content/genai_test_project.zip'"
            ]
          },
          "execution_count": 13,
          "metadata": {},
          "output_type": "execute_result"
        }
      ],
      "source": [
        "import shutil\n",
        "\n",
        "shutil.make_archive(\"genai_test_project\", 'zip', \"genai_test_generator\")\n"
      ]
    },
    {
      "cell_type": "code",
      "execution_count": null,
      "metadata": {
        "id": "1Ll3XS_RFjBm"
      },
      "outputs": [],
      "source": []
    },
    {
      "cell_type": "markdown",
      "metadata": {
        "id": "1HITguFxiVnS"
      },
      "source": [
        "Çalışan ve sonuçları tablolaştıran Çözüm :"
      ]
    },
    {
      "cell_type": "code",
      "execution_count": null,
      "metadata": {
        "colab": {
          "base_uri": "https://localhost:8080/"
        },
        "id": "4J_pNy5iFjGD",
        "outputId": "af684440-65db-401f-eaf5-0a0ecf74a48d"
      },
      "outputs": [
        {
          "name": "stdout",
          "output_type": "stream",
          "text": [
            "✅ add fonksiyonu için test dosyası oluşturuldu: genai_test_generator/tests/test_add_llm.py\n",
            "✅ divide fonksiyonu için test dosyası oluşturuldu: genai_test_generator/tests/test_divide_llm.py\n",
            "✅ factorial fonksiyonu için test dosyası oluşturuldu: genai_test_generator/tests/test_factorial_llm.py\n",
            "   Fonksiyon Test Tipi  Kod Kapsamı (%)  Test Sayısı Edge Case Durumu  \\\n",
            "0        add       LLM              100            0                ✅   \n",
            "1     divide       LLM              100            0                ✅   \n",
            "2  factorial       LLM              100            0                ✅   \n",
            "\n",
            "   Üretim Süresi (sn)  \n",
            "0                3.57  \n",
            "1                3.81  \n",
            "2                5.16  \n"
          ]
        }
      ],
      "source": [
        "import openai\n",
        "import os\n",
        "import re\n",
        "import subprocess\n",
        "import time\n",
        "import pandas as pd\n",
        "\n",
        "# OpenAI API anahtarını girin\n",
        "openai.api_key = \"\"  # kendi anahtarını yaz\n",
        "\n",
        "source_file_path = \"genai_test_generator/src/math_utils.py\"\n",
        "output_dir = \"genai_test_generator/tests\"\n",
        "os.makedirs(output_dir, exist_ok=True)\n",
        "\n",
        "def extract_function(source_code, function_name):\n",
        "    lines = source_code.splitlines()\n",
        "    start_index = None\n",
        "    for i, line in enumerate(lines):\n",
        "        if line.strip().startswith(f\"def {function_name}(\"):\n",
        "            start_index = i\n",
        "            break\n",
        "    if start_index is None:\n",
        "        raise ValueError(f\"{function_name} fonksiyonu bulunamadı.\")\n",
        "    fn_lines = [lines[start_index]]\n",
        "    indent = len(lines[start_index]) - len(lines[start_index].lstrip())\n",
        "    for line in lines[start_index + 1:]:\n",
        "        if len(line.strip()) == 0 or (len(line) - len(line.lstrip())) > indent:\n",
        "            fn_lines.append(line)\n",
        "        else:\n",
        "            break\n",
        "    return \"\\n\".join(fn_lines)\n",
        "\n",
        "def generate_test_code(function_code):\n",
        "    prompt = f\"\"\"Aşağıdaki Python fonksiyonu için pytest kullanarak test fonksiyonları yaz. Sadece Python test kodu ver. Açıklama, yorum veya metin yazma:\\n```python\\n{function_code}\\n```\"\"\"\n",
        "    response = openai.ChatCompletion.create(\n",
        "        model=\"gpt-4\",\n",
        "        messages=[{\"role\": \"user\", \"content\": prompt}],\n",
        "        temperature=0.2\n",
        "    )\n",
        "    return response['choices'][0]['message']['content']\n",
        "\n",
        "def clean_test_code(llm_output):\n",
        "    code_blocks = re.findall(r\"```(?:python)?(.*?)```\", llm_output, re.DOTALL)\n",
        "    cleaned = code_blocks[0].strip() if code_blocks else llm_output.strip()\n",
        "    cleaned = re.sub(r\"from\\s+[\\w_\\.]+?\\s+import\", \"from genai_test_generator.src.math_utils import\", cleaned)\n",
        "    return cleaned\n",
        "\n",
        "def get_test_count(test_path):\n",
        "    result = subprocess.run([\"pytest\", test_path, \"-q\"], capture_output=True, text=True)\n",
        "    output = result.stdout\n",
        "    match = re.search(r\"collected\\s+(\\d+)\\s+items\", output)\n",
        "    if match:\n",
        "        return int(match.group(1))\n",
        "    return 0\n",
        "\n",
        "def get_coverage():\n",
        "    result = subprocess.run([\"pytest\", \"--cov=genai_test_generator/src\", \"--cov-report=term\"], capture_output=True, text=True)\n",
        "    lines = result.stdout.splitlines()\n",
        "    for line in lines:\n",
        "        if \"math_utils.py\" in line:\n",
        "            parts = line.split()\n",
        "            try:\n",
        "                return int(parts[3].replace(\"%\", \"\"))\n",
        "            except:\n",
        "                pass\n",
        "    return 0\n",
        "\n",
        "source_code = open(source_file_path, \"r\", encoding=\"utf-8\").read()\n",
        "\n",
        "functions = [\"add\", \"divide\", \"factorial\"]\n",
        "\n",
        "data = {\n",
        "    \"Fonksiyon\": [],\n",
        "    \"Test Tipi\": [],\n",
        "    \"Kod Kapsamı (%)\": [],\n",
        "    \"Test Sayısı\": [],\n",
        "    \"Edge Case Durumu\": [],\n",
        "    \"Üretim Süresi (sn)\": [],\n",
        "}\n",
        "\n",
        "for fn in functions:\n",
        "    try:\n",
        "        fn_code = extract_function(source_code, fn)\n",
        "\n",
        "        start_time = time.time()\n",
        "        raw_output = generate_test_code(fn_code)\n",
        "        elapsed = time.time() - start_time\n",
        "\n",
        "        test_code = clean_test_code(raw_output)\n",
        "\n",
        "        test_path = os.path.join(output_dir, f\"test_{fn}_llm.py\")\n",
        "        with open(test_path, \"w\", encoding=\"utf-8\") as f_out:\n",
        "            f_out.write(test_code)\n",
        "\n",
        "        test_count = get_test_count(test_path)\n",
        "        coverage = get_coverage()\n",
        "        edge_case = \"✅\"  # İstersen daha detaylı kontrol ekleyebilirsin\n",
        "\n",
        "        data[\"Fonksiyon\"].append(fn)\n",
        "        data[\"Test Tipi\"].append(\"LLM\")\n",
        "        data[\"Kod Kapsamı (%)\"].append(coverage if coverage is not None else 0)\n",
        "        data[\"Test Sayısı\"].append(test_count)\n",
        "        data[\"Edge Case Durumu\"].append(edge_case)\n",
        "        data[\"Üretim Süresi (sn)\"].append(round(elapsed, 2))\n",
        "\n",
        "        print(f\"✅ {fn} fonksiyonu için test dosyası oluşturuldu: {test_path}\")\n",
        "    except Exception as e:\n",
        "        print(f\"❌ {fn} fonksiyonu için test oluşturulurken hata oluştu: {e}\")\n",
        "\n",
        "df = pd.DataFrame(data)\n",
        "print(df)\n"
      ]
    },
    {
      "cell_type": "markdown",
      "metadata": {
        "id": "3SDodcxHheTg"
      },
      "source": [
        "Birim testleri EDGE CASE yöntemi ile üretiyor ve sonuçlarını alıyor:"
      ]
    },
    {
      "cell_type": "code",
      "execution_count": null,
      "metadata": {
        "colab": {
          "base_uri": "https://localhost:8080/"
        },
        "id": "0yDQ2cpIFjJn",
        "outputId": "83594cb4-c0f9-4026-ebd4-564c9580ab56"
      },
      "outputs": [
        {
          "name": "stdout",
          "output_type": "stream",
          "text": [
            "✅ add fonksiyonu için test dosyası oluşturuldu: genai_test_generator/tests/test_add_llm.py\n",
            "✅ divide fonksiyonu için test dosyası oluşturuldu: genai_test_generator/tests/test_divide_llm.py\n",
            "✅ factorial fonksiyonu için test dosyası oluşturuldu: genai_test_generator/tests/test_factorial_llm.py\n",
            "   Fonksiyon Test Tipi  Kod Kapsamı (%)  Test Sayısı Edge Case Durumu  \\\n",
            "0        add       LLM              100            0                ✅   \n",
            "1     divide       LLM              100            0                ✅   \n",
            "2  factorial       LLM              100            0                ✅   \n",
            "\n",
            "   Üretim Süresi (sn)  \n",
            "0                4.30  \n",
            "1                7.50  \n",
            "2                4.14  \n"
          ]
        }
      ],
      "source": [
        "import openai\n",
        "import os\n",
        "import re\n",
        "import subprocess\n",
        "import time\n",
        "import pandas as pd\n",
        "\n",
        "# OpenAI API anahtarını girin\n",
        "openai.api_key = \"\"  # kendi anahtarını yaz\n",
        "\n",
        "source_file_path = \"genai_test_generator/src/math_utils.py\"\n",
        "output_dir = \"genai_test_generator/tests\"\n",
        "os.makedirs(output_dir, exist_ok=True)\n",
        "\n",
        "def extract_function(source_code, function_name):\n",
        "    lines = source_code.splitlines()\n",
        "    start_index = None\n",
        "    for i, line in enumerate(lines):\n",
        "        if line.strip().startswith(f\"def {function_name}(\"):\n",
        "            start_index = i\n",
        "            break\n",
        "    if start_index is None:\n",
        "        raise ValueError(f\"{function_name} fonksiyonu bulunamadı.\")\n",
        "    fn_lines = [lines[start_index]]\n",
        "    indent = len(lines[start_index]) - len(lines[start_index].lstrip())\n",
        "    for line in lines[start_index + 1:]:\n",
        "        if len(line.strip()) == 0 or (len(line) - len(line.lstrip())) > indent:\n",
        "            fn_lines.append(line)\n",
        "        else:\n",
        "            break\n",
        "    return \"\\n\".join(fn_lines)\n",
        "\n",
        "def generate_test_code(function_code):\n",
        "   #  prompt = f\"\"\"Aşağıdaki Python fonksiyonu için pytest kullanarak test fonksiyonları yaz.\n",
        "   #  Sadece Python test kodu ver. Açıklama, yorum veya metin yazma:\\n```python\\n{function_code}\\n```\"\"\"\n",
        "    prompt = f\"\"\"\n",
        "    Aşağıdaki Python fonksiyonu için pytest kullanarak test kodu üret.\n",
        "    - Normal durumları test et\n",
        "    - Edge-case senaryolarını da mutlaka dahil et (örneğin negatif sayılar, sıfır, yanlış veri tipi, boş giriş).\n",
        "    Sadece Python test kodunu ver. Açıklama yazma.\\n```python\\n{function_code}\\n```\"\"\"\n",
        "\n",
        "\n",
        "    response = openai.ChatCompletion.create(\n",
        "        model=\"gpt-4\",\n",
        "        messages=[{\"role\": \"user\", \"content\": prompt}],\n",
        "        temperature=0.2\n",
        "    )\n",
        "    return response['choices'][0]['message']['content']\n",
        "\n",
        "def clean_test_code(llm_output):\n",
        "    code_blocks = re.findall(r\"```(?:python)?(.*?)```\", llm_output, re.DOTALL)\n",
        "    cleaned = code_blocks[0].strip() if code_blocks else llm_output.strip()\n",
        "    cleaned = re.sub(r\"from\\s+[\\w_\\.]+?\\s+import\", \"from genai_test_generator.src.math_utils import\", cleaned)\n",
        "    return cleaned\n",
        "\n",
        "def get_test_count(test_path):\n",
        "    result = subprocess.run([\"pytest\", test_path, \"-q\"], capture_output=True, text=True)\n",
        "    output = result.stdout\n",
        "    match = re.search(r\"collected\\s+(\\d+)\\s+items\", output)\n",
        "    if match:\n",
        "        return int(match.group(1))\n",
        "    return 0\n",
        "\n",
        "def get_coverage():\n",
        "    result = subprocess.run([\"pytest\", \"--cov=genai_test_generator/src\", \"--cov-report=term\"], capture_output=True, text=True)\n",
        "    lines = result.stdout.splitlines()\n",
        "    for line in lines:\n",
        "        if \"math_utils.py\" in line:\n",
        "            parts = line.split()\n",
        "            try:\n",
        "                return int(parts[3].replace(\"%\", \"\"))\n",
        "            except:\n",
        "                pass\n",
        "    return 0\n",
        "\n",
        "source_code = open(source_file_path, \"r\", encoding=\"utf-8\").read()\n",
        "\n",
        "functions = [\"add\", \"divide\", \"factorial\"]\n",
        "\n",
        "data = {\n",
        "    \"Fonksiyon\": [],\n",
        "    \"Test Tipi\": [],\n",
        "    \"Kod Kapsamı (%)\": [],\n",
        "    \"Test Sayısı\": [],\n",
        "    \"Edge Case Durumu\": [],\n",
        "    \"Üretim Süresi (sn)\": [],\n",
        "}\n",
        "\n",
        "for fn in functions:\n",
        "    try:\n",
        "        fn_code = extract_function(source_code, fn)\n",
        "\n",
        "        start_time = time.time()\n",
        "        raw_output = generate_test_code(fn_code)\n",
        "        elapsed = time.time() - start_time\n",
        "\n",
        "        test_code = clean_test_code(raw_output)\n",
        "\n",
        "        test_path = os.path.join(output_dir, f\"test_{fn}_llm.py\")\n",
        "        with open(test_path, \"w\", encoding=\"utf-8\") as f_out:\n",
        "            f_out.write(test_code)\n",
        "\n",
        "        test_count = get_test_count(test_path)\n",
        "        coverage = get_coverage()\n",
        "        edge_case = \"✅\"  # İstersen daha detaylı kontrol ekleyebilirsin\n",
        "\n",
        "        data[\"Fonksiyon\"].append(fn)\n",
        "        data[\"Test Tipi\"].append(\"LLM\")\n",
        "        data[\"Kod Kapsamı (%)\"].append(coverage if coverage is not None else 0)\n",
        "        data[\"Test Sayısı\"].append(test_count)\n",
        "        data[\"Edge Case Durumu\"].append(edge_case)\n",
        "        data[\"Üretim Süresi (sn)\"].append(round(elapsed, 2))\n",
        "\n",
        "        print(f\"✅ {fn} fonksiyonu için test dosyası oluşturuldu: {test_path}\")\n",
        "    except Exception as e:\n",
        "        print(f\"❌ {fn} fonksiyonu için test oluşturulurken hata oluştu: {e}\")\n",
        "\n",
        "df = pd.DataFrame(data)\n",
        "print(df)\n"
      ]
    },
    {
      "cell_type": "code",
      "execution_count": null,
      "metadata": {
        "colab": {
          "base_uri": "https://localhost:8080/",
          "height": 443,
          "resources": {
            "http://localhost:8080/coverage_html_cb_6fb7b396.js": {
              "data": "",
              "headers": [
                [
                  "content-length",
                  "0"
                ]
              ],
              "ok": false,
              "status": 404,
              "status_text": ""
            },
            "http://localhost:8080/keybd_closed_cb_ce680311.png": {
              "data": "",
              "headers": [
                [
                  "content-length",
                  "0"
                ]
              ],
              "ok": false,
              "status": 404,
              "status_text": ""
            },
            "http://localhost:8080/style_cb_81f8c14c.css": {
              "data": "",
              "headers": [
                [
                  "content-length",
                  "0"
                ]
              ],
              "ok": false,
              "status": 404,
              "status_text": ""
            }
          }
        },
        "id": "DXVMMh-roDcF",
        "outputId": "1a21d5d9-4f3a-4c4c-8af6-72ef652855d7"
      },
      "outputs": [
        {
          "data": {
            "text/html": [
              "<!DOCTYPE html>\n",
              "<html lang=\"en\">\n",
              "<head>\n",
              "    <meta http-equiv=\"Content-Type\" content=\"text/html; charset=utf-8\">\n",
              "    <title>Coverage report</title>\n",
              "    <link rel=\"icon\" sizes=\"32x32\" href=\"favicon_32_cb_58284776.png\">\n",
              "    <link rel=\"stylesheet\" href=\"style_cb_81f8c14c.css\" type=\"text/css\">\n",
              "    <script src=\"coverage_html_cb_6fb7b396.js\" defer></script>\n",
              "</head>\n",
              "<body class=\"indexfile\">\n",
              "<header>\n",
              "    <div class=\"content\">\n",
              "        <h1>Coverage report:\n",
              "            <span class=\"pc_cov\">100%</span>\n",
              "        </h1>\n",
              "        <aside id=\"help_panel_wrapper\">\n",
              "            <input id=\"help_panel_state\" type=\"checkbox\">\n",
              "            <label for=\"help_panel_state\">\n",
              "                <img id=\"keyboard_icon\" src=\"keybd_closed_cb_ce680311.png\" alt=\"Show/hide keyboard shortcuts\">\n",
              "            </label>\n",
              "            <div id=\"help_panel\">\n",
              "                <p class=\"legend\">Shortcuts on this page</p>\n",
              "                <div class=\"keyhelp\">\n",
              "                    <p>\n",
              "                        <kbd>f</kbd>\n",
              "                        <kbd>s</kbd>\n",
              "                        <kbd>m</kbd>\n",
              "                        <kbd>x</kbd>\n",
              "                        <kbd>c</kbd>\n",
              "                        &nbsp; change column sorting\n",
              "                    </p>\n",
              "                    <p>\n",
              "                        <kbd>[</kbd>\n",
              "                        <kbd>]</kbd>\n",
              "                        &nbsp; prev/next file\n",
              "                    </p>\n",
              "                    <p>\n",
              "                        <kbd>?</kbd> &nbsp; show/hide this help\n",
              "                    </p>\n",
              "                </div>\n",
              "            </div>\n",
              "        </aside>\n",
              "        <form id=\"filter_container\">\n",
              "            <input id=\"filter\" type=\"text\" value=\"\" placeholder=\"filter...\">\n",
              "            <div>\n",
              "                <input id=\"hide100\" type=\"checkbox\" >\n",
              "                <label for=\"hide100\">hide covered</label>\n",
              "            </div>\n",
              "        </form>\n",
              "        <h2>\n",
              "                <a class=\"button current\">Files</a>\n",
              "                <a class=\"button\" href=\"function_index.html\">Functions</a>\n",
              "                <a class=\"button\" href=\"class_index.html\">Classes</a>\n",
              "        </h2>\n",
              "        <p class=\"text\">\n",
              "            <a class=\"nav\" href=\"https://coverage.readthedocs.io/en/7.9.1\">coverage.py v7.9.1</a>,\n",
              "            created at 2025-06-29 11:53 +0000\n",
              "        </p>\n",
              "    </div>\n",
              "</header>\n",
              "<main id=\"index\">\n",
              "    <table class=\"index\" data-sortable>\n",
              "        <thead>\n",
              "            <tr class=\"tablehead\" title=\"Click to sort\">\n",
              "                <th id=\"file\" class=\"name left\" aria-sort=\"none\" data-shortcut=\"f\">File<span class=\"arrows\"></span></th>\n",
              "                <th id=\"statements\" aria-sort=\"none\" data-default-sort-order=\"descending\" data-shortcut=\"s\">statements<span class=\"arrows\"></span></th>\n",
              "                <th id=\"missing\" aria-sort=\"none\" data-default-sort-order=\"descending\" data-shortcut=\"m\">missing<span class=\"arrows\"></span></th>\n",
              "                <th id=\"excluded\" aria-sort=\"none\" data-default-sort-order=\"descending\" data-shortcut=\"x\">excluded<span class=\"arrows\"></span></th>\n",
              "                <th id=\"coverage\" class=\"right\" aria-sort=\"none\" data-shortcut=\"c\">coverage<span class=\"arrows\"></span></th>\n",
              "            </tr>\n",
              "        </thead>\n",
              "        <tbody>\n",
              "            <tr class=\"region\">\n",
              "                <td class=\"name left\"><a href=\"z_def1cee6b0816bba_math_utils_py.html\">genai_test_generator/src/math_utils.py</a></td>\n",
              "                <td>15</td>\n",
              "                <td>0</td>\n",
              "                <td>0</td>\n",
              "                <td class=\"right\" data-ratio=\"15 15\">100%</td>\n",
              "            </tr>\n",
              "        </tbody>\n",
              "        <tfoot>\n",
              "            <tr class=\"total\">\n",
              "                <td class=\"name left\">Total</td>\n",
              "                <td>15</td>\n",
              "                <td>0</td>\n",
              "                <td>0</td>\n",
              "                <td class=\"right\" data-ratio=\"15 15\">100%</td>\n",
              "            </tr>\n",
              "        </tfoot>\n",
              "    </table>\n",
              "    <p id=\"no_rows\">\n",
              "        No items found using the specified filter.\n",
              "    </p>\n",
              "</main>\n",
              "<footer>\n",
              "    <div class=\"content\">\n",
              "        <p>\n",
              "            <a class=\"nav\" href=\"https://coverage.readthedocs.io/en/7.9.1\">coverage.py v7.9.1</a>,\n",
              "            created at 2025-06-29 11:53 +0000\n",
              "        </p>\n",
              "    </div>\n",
              "    <aside class=\"hidden\">\n",
              "        <a id=\"prevFileLink\" class=\"nav\" href=\"z_def1cee6b0816bba_math_utils_py.html\"></a>\n",
              "        <a id=\"nextFileLink\" class=\"nav\" href=\"z_def1cee6b0816bba_math_utils_py.html\"></a>\n",
              "        <button type=\"button\" class=\"button_prev_file\" data-shortcut=\"[\"></button>\n",
              "        <button type=\"button\" class=\"button_next_file\" data-shortcut=\"]\"></button>\n",
              "        <button type=\"button\" class=\"button_show_hide_help\" data-shortcut=\"?\"></button>\n",
              "    </aside>\n",
              "</footer>\n",
              "</body>\n",
              "</html>\n"
            ],
            "text/plain": [
              "<IPython.core.display.HTML object>"
            ]
          },
          "metadata": {},
          "output_type": "display_data"
        }
      ],
      "source": [
        "# index.html içeriğini Colab'da görüntülemek\n",
        "from IPython.core.display import display, HTML\n",
        "\n",
        "with open(\"htmlcov/index.html\", \"r\", encoding=\"utf-8\") as f:\n",
        "    html_content = f.read()\n",
        "\n",
        "display(HTML(html_content))\n"
      ]
    }
  ],
  "metadata": {
    "colab": {
      "provenance": []
    },
    "kernelspec": {
      "display_name": "Python 3",
      "name": "python3"
    },
    "language_info": {
      "name": "python"
    }
  },
  "nbformat": 4,
  "nbformat_minor": 0
}
